{
 "cells": [
  {
   "cell_type": "code",
   "execution_count": 49,
   "metadata": {},
   "outputs": [],
   "source": [
    "# Libraries\n",
    "import pandas as pd\n",
    "import numpy as np\n",
    "import pandas as pd\n",
    "import matplotlib.pyplot as plt\n",
    "from scipy.stats import shapiro, levene, ttest_ind\n",
    "from statsmodels.stats.proportion import proportions_ztest\n",
    "\n",
    "# Settings\n",
    "pd.set_option('display.max_columns', None)\n",
    "pd.set_option('display.expand_frame_repr', False)\n",
    "pd.set_option('display.float_format', lambda x: '%.5f' % x)"
   ]
  },
  {
   "cell_type": "markdown",
   "metadata": {},
   "source": [
    "# Section I - Data Preparation\n",
    "\n",
    "\n",
    "### Step #1\n",
    "Read test and control data"
   ]
  },
  {
   "cell_type": "code",
   "execution_count": 8,
   "metadata": {},
   "outputs": [],
   "source": [
    "dataframe_control = pd.read_excel(\"data/ab_testing.xlsx\" , sheet_name=\"Control Group\")\n",
    "dataframe_test = pd.read_excel(\"data/ab_testing.xlsx\" , sheet_name=\"Test Group\")\n",
    "\n",
    "df_control = dataframe_control.copy()\n",
    "df_test = dataframe_test.copy()"
   ]
  },
  {
   "cell_type": "markdown",
   "metadata": {},
   "source": [
    "### Step #2\n",
    "\n",
    "Analyze control and test group"
   ]
  },
  {
   "cell_type": "code",
   "execution_count": 9,
   "metadata": {},
   "outputs": [],
   "source": [
    "def check_df(dataframe, head=5):\n",
    "    print(\"##################### Shape #####################\")\n",
    "    print(dataframe.shape)\n",
    "    print(\"##################### Types #####################\")\n",
    "    print(dataframe.dtypes)\n",
    "    print(\"##################### Head #####################\")\n",
    "    print(dataframe.head())\n",
    "    print(\"##################### Tail #####################\")\n",
    "    print(dataframe.tail())\n",
    "    print(\"##################### NA #####################\")\n",
    "    print(dataframe.isnull().sum())\n",
    "    print(\"##################### Quantiles #####################\")\n",
    "    print(dataframe.quantile([0, 0.05, 0.50, 0.95, 0.99, 1]).T)"
   ]
  },
  {
   "cell_type": "code",
   "execution_count": 10,
   "metadata": {},
   "outputs": [
    {
     "name": "stdout",
     "output_type": "stream",
     "text": [
      "##################### Shape #####################\n",
      "(40, 4)\n",
      "##################### Types #####################\n",
      "Impression    float64\n",
      "Click         float64\n",
      "Purchase      float64\n",
      "Earning       float64\n",
      "dtype: object\n",
      "##################### Head #####################\n",
      "    Impression      Click  Purchase    Earning\n",
      "0  82529.45927 6090.07732 665.21125 2311.27714\n",
      "1  98050.45193 3382.86179 315.08489 1742.80686\n",
      "2  82696.02355 4167.96575 458.08374 1797.82745\n",
      "3 109914.40040 4910.88224 487.09077 1696.22918\n",
      "4 108457.76263 5987.65581 441.03405 1543.72018\n",
      "##################### Tail #####################\n",
      "     Impression      Click  Purchase    Earning\n",
      "35 132064.21900 3747.15754 551.07241 2256.97559\n",
      "36  86409.94180 4608.25621 345.04603 1781.35769\n",
      "37 123678.93423 3649.07379 476.16813 2187.72122\n",
      "38 101997.49410 4736.35337 474.61354 2254.56383\n",
      "39 121085.88122 4285.17861 590.40602 1289.30895\n",
      "##################### NA #####################\n",
      "Impression    0\n",
      "Click         0\n",
      "Purchase      0\n",
      "Earning       0\n",
      "dtype: int64\n",
      "##################### Quantiles #####################\n",
      "               0.00000     0.05000     0.50000      0.95000      0.99000      1.00000\n",
      "Impression 45475.94296 79412.01792 99790.70108 132950.53245 143105.79110 147539.33633\n",
      "Click       2189.75316  3367.48426  5001.22060   7374.36120   7761.79511   7959.12507\n",
      "Purchase     267.02894   328.66242   531.20631    748.27076    790.18779    801.79502\n",
      "Earning     1253.98952  1329.57708  1975.16052   2318.52850   2481.30874   2497.29522\n"
     ]
    }
   ],
   "source": [
    "check_df(df_control)"
   ]
  },
  {
   "cell_type": "code",
   "execution_count": 11,
   "metadata": {},
   "outputs": [
    {
     "name": "stdout",
     "output_type": "stream",
     "text": [
      "##################### Shape #####################\n",
      "(40, 4)\n",
      "##################### Types #####################\n",
      "Impression    float64\n",
      "Click         float64\n",
      "Purchase      float64\n",
      "Earning       float64\n",
      "dtype: object\n",
      "##################### Head #####################\n",
      "    Impression      Click  Purchase    Earning\n",
      "0 120103.50380 3216.54796 702.16035 1939.61124\n",
      "1 134775.94336 3635.08242 834.05429 2929.40582\n",
      "2 107806.62079 3057.14356 422.93426 2526.24488\n",
      "3 116445.27553 4650.47391 429.03353 2281.42857\n",
      "4 145082.51684 5201.38772 749.86044 2781.69752\n",
      "##################### Tail #####################\n",
      "     Impression      Click  Purchase    Earning\n",
      "35  79234.91193 6002.21358 382.04712 2277.86398\n",
      "36 130702.23941 3626.32007 449.82459 2530.84133\n",
      "37 116481.87337 4702.78247 472.45373 2597.91763\n",
      "38  79033.83492 4495.42818 425.35910 2595.85788\n",
      "39 102257.45409 4800.06832 521.31073 2967.51839\n",
      "##################### NA #####################\n",
      "Impression    0\n",
      "Click         0\n",
      "Purchase      0\n",
      "Earning       0\n",
      "dtype: int64\n",
      "##################### Quantiles #####################\n",
      "               0.00000     0.05000      0.50000      0.95000      0.99000      1.00000\n",
      "Impression 79033.83492 83150.50378 119291.30077 153178.69106 158245.26380 158605.92048\n",
      "Click       1836.62986  2600.36102   3931.35980   5271.18691   6012.87730   6019.69508\n",
      "Purchase     311.62952   356.69540    551.35573    854.20895    876.57610    889.91046\n",
      "Earning     1939.61124  2080.97621   2544.66611   2931.31145   3091.94089   3171.48971\n"
     ]
    }
   ],
   "source": [
    "check_df(df_test)"
   ]
  },
  {
   "cell_type": "markdown",
   "metadata": {},
   "source": [
    "### Step #3\n",
    "\n",
    "Concatenate Control & Test group"
   ]
  },
  {
   "cell_type": "code",
   "execution_count": 12,
   "metadata": {},
   "outputs": [
    {
     "data": {
      "text/html": [
       "<div>\n",
       "<style scoped>\n",
       "    .dataframe tbody tr th:only-of-type {\n",
       "        vertical-align: middle;\n",
       "    }\n",
       "\n",
       "    .dataframe tbody tr th {\n",
       "        vertical-align: top;\n",
       "    }\n",
       "\n",
       "    .dataframe thead th {\n",
       "        text-align: right;\n",
       "    }\n",
       "</style>\n",
       "<table border=\"1\" class=\"dataframe\">\n",
       "  <thead>\n",
       "    <tr style=\"text-align: right;\">\n",
       "      <th></th>\n",
       "      <th>Impression</th>\n",
       "      <th>Click</th>\n",
       "      <th>Purchase</th>\n",
       "      <th>Earning</th>\n",
       "      <th>group</th>\n",
       "    </tr>\n",
       "  </thead>\n",
       "  <tbody>\n",
       "    <tr>\n",
       "      <th>0</th>\n",
       "      <td>82529.45927</td>\n",
       "      <td>6090.07732</td>\n",
       "      <td>665.21125</td>\n",
       "      <td>2311.27714</td>\n",
       "      <td>control</td>\n",
       "    </tr>\n",
       "    <tr>\n",
       "      <th>1</th>\n",
       "      <td>98050.45193</td>\n",
       "      <td>3382.86179</td>\n",
       "      <td>315.08489</td>\n",
       "      <td>1742.80686</td>\n",
       "      <td>control</td>\n",
       "    </tr>\n",
       "    <tr>\n",
       "      <th>2</th>\n",
       "      <td>82696.02355</td>\n",
       "      <td>4167.96575</td>\n",
       "      <td>458.08374</td>\n",
       "      <td>1797.82745</td>\n",
       "      <td>control</td>\n",
       "    </tr>\n",
       "    <tr>\n",
       "      <th>3</th>\n",
       "      <td>109914.40040</td>\n",
       "      <td>4910.88224</td>\n",
       "      <td>487.09077</td>\n",
       "      <td>1696.22918</td>\n",
       "      <td>control</td>\n",
       "    </tr>\n",
       "    <tr>\n",
       "      <th>4</th>\n",
       "      <td>108457.76263</td>\n",
       "      <td>5987.65581</td>\n",
       "      <td>441.03405</td>\n",
       "      <td>1543.72018</td>\n",
       "      <td>control</td>\n",
       "    </tr>\n",
       "  </tbody>\n",
       "</table>\n",
       "</div>"
      ],
      "text/plain": [
       "    Impression      Click  Purchase    Earning    group\n",
       "0  82529.45927 6090.07732 665.21125 2311.27714  control\n",
       "1  98050.45193 3382.86179 315.08489 1742.80686  control\n",
       "2  82696.02355 4167.96575 458.08374 1797.82745  control\n",
       "3 109914.40040 4910.88224 487.09077 1696.22918  control\n",
       "4 108457.76263 5987.65581 441.03405 1543.72018  control"
      ]
     },
     "execution_count": 12,
     "metadata": {},
     "output_type": "execute_result"
    }
   ],
   "source": [
    "df_control[\"group\"] = \"control\"\n",
    "df_test[\"group\"] = \"test\"\n",
    "\n",
    "df = pd.concat([df_control,df_test], axis=0,ignore_index=False)\n",
    "df.head()"
   ]
  },
  {
   "cell_type": "code",
   "execution_count": 41,
   "metadata": {},
   "outputs": [],
   "source": [
    "AB = pd.DataFrame()\n",
    "\n",
    "AB[\"A\"] = df[df['group'] == 'control']['Purchase']\n",
    "AB[\"B\"] = df[df['group'] == 'test']['Purchase']"
   ]
  },
  {
   "cell_type": "code",
   "execution_count": 43,
   "metadata": {},
   "outputs": [
    {
     "data": {
      "image/png": "[encoded data removed]",
      "text/plain": [
       "<Figure size 640x480 with 1 Axes>"
      ]
     },
     "metadata": {},
     "output_type": "display_data"
    }
   ],
   "source": [
    "vals, names, xs = [],[],[]\n",
    "for i, col in enumerate(AB.columns):\n",
    "    vals.append(AB[col].values)\n",
    "    names.append(col)\n",
    "    xs.append(np.random.normal(i + 1, 0.04, AB[col].values.shape[0]))  # adds jitter to the data points - can be adjusted\n",
    "    \n",
    "plt.boxplot(vals, labels=names)\n",
    "palette = ['#25B89B', '#C20E69']\n",
    "for x, val, c in zip(xs, vals, palette):\n",
    "    plt.scatter(x, val, alpha=0.7, color=c)\n",
    "plt.show()"
   ]
  },
  {
   "cell_type": "markdown",
   "metadata": {},
   "source": [
    "# Section II - AB Testing\n",
    "\n",
    "### Step #1\n",
    "Define AB Test Hypothesis\n",
    "\n",
    "- H0 : M1 = M2 (There is no difference between the mean purchase of the control group and the test group)\n",
    "- H1 : M1!= M2 (There is a difference between the mean purchase of the control group and the test group)"
   ]
  },
  {
   "cell_type": "markdown",
   "metadata": {},
   "source": [
    "### Step #2\n",
    "Analyze the mean purchase for the control and test group\n"
   ]
  },
  {
   "cell_type": "code",
   "execution_count": 13,
   "metadata": {},
   "outputs": [
    {
     "data": {
      "text/html": [
       "<div>\n",
       "<style scoped>\n",
       "    .dataframe tbody tr th:only-of-type {\n",
       "        vertical-align: middle;\n",
       "    }\n",
       "\n",
       "    .dataframe tbody tr th {\n",
       "        vertical-align: top;\n",
       "    }\n",
       "\n",
       "    .dataframe thead th {\n",
       "        text-align: right;\n",
       "    }\n",
       "</style>\n",
       "<table border=\"1\" class=\"dataframe\">\n",
       "  <thead>\n",
       "    <tr style=\"text-align: right;\">\n",
       "      <th></th>\n",
       "      <th>Purchase</th>\n",
       "    </tr>\n",
       "    <tr>\n",
       "      <th>group</th>\n",
       "      <th></th>\n",
       "    </tr>\n",
       "  </thead>\n",
       "  <tbody>\n",
       "    <tr>\n",
       "      <th>control</th>\n",
       "      <td>550.89406</td>\n",
       "    </tr>\n",
       "    <tr>\n",
       "      <th>test</th>\n",
       "      <td>582.10610</td>\n",
       "    </tr>\n",
       "  </tbody>\n",
       "</table>\n",
       "</div>"
      ],
      "text/plain": [
       "         Purchase\n",
       "group            \n",
       "control 550.89406\n",
       "test    582.10610"
      ]
     },
     "execution_count": 13,
     "metadata": {},
     "output_type": "execute_result"
    }
   ],
   "source": [
    "df.groupby(\"group\").agg({\"Purchase\": \"mean\"})"
   ]
  },
  {
   "cell_type": "markdown",
   "metadata": {},
   "source": [
    "# Section III - Performing Hypothesis Testing\n",
    "\n",
    "### Step #1:\n",
    "Make assumption checks before conducting hypothesis testing.\n",
    "\n",
    "These are the Assumption of Normality and Homogeneity of Variance.\n",
    "\n",
    "---\n",
    "### Assumption of Normality:\n",
    "- H0: The assumption of normal distribution is provided.\n",
    "- H1: Assumption of normal distribution is not provided\n",
    "\n",
    "---\n",
    "\n",
    "- **p < 0.05** H0 Reject\n",
    "- **p > 0.05** H0 Cannot reject"
   ]
  },
  {
   "cell_type": "code",
   "execution_count": 15,
   "metadata": {},
   "outputs": [
    {
     "name": "stdout",
     "output_type": "stream",
     "text": [
      "Test Stat = 0.9773, p-value = 0.5891\n"
     ]
    }
   ],
   "source": [
    "test_stat, pvalue = shapiro(df.loc[df[\"group\"] == \"control\", \"Purchase\"])\n",
    "print('Test Stat = %.4f, p-value = %.4f' % (test_stat, pvalue))\n",
    "# p-value=0.5891\n",
    "# HO cannot be rejected. The values of the Control group fulfill the assumption of normal distribution."
   ]
  },
  {
   "cell_type": "markdown",
   "metadata": {},
   "source": [
    "### Step #2\n",
    "\n",
    "### Homogeneity of Variance:\n",
    "\n",
    "\n",
    "- H0: Variances are homogeneous.\n",
    "- H1: Variances are not homogeneous.\n",
    "\n",
    "---\n",
    "\n",
    "- **p < 0.05** H0 Reject\n",
    "- **p > 0.05** H0 Cannot reject"
   ]
  },
  {
   "cell_type": "code",
   "execution_count": 17,
   "metadata": {},
   "outputs": [
    {
     "name": "stdout",
     "output_type": "stream",
     "text": [
      "Test Stat = 2.6393, p-value = 0.1083\n"
     ]
    }
   ],
   "source": [
    "test_stat, pvalue = levene(df.loc[df[\"group\"] == \"control\", \"Purchase\"],\n",
    "                           df.loc[df[\"group\"] == \"test\", \"Purchase\"])\n",
    "print('Test Stat = %.4f, p-value = %.4f' % (test_stat, pvalue))\n",
    "\n",
    "# p-value=0.1083\n",
    "# HO cannot be rejected. The values of Control and Test group satisfy the assumption of variance homeogeneity."
   ]
  },
  {
   "cell_type": "markdown",
   "metadata": {},
   "source": [
    "### Step #3\n",
    "\n",
    "Select the appropriate test according to the results of the assumption "
   ]
  },
  {
   "cell_type": "markdown",
   "metadata": {},
   "source": [
    "Since the assumptions are satisfied, an independent two sample t-test (parametric test) is performed.\n",
    "- H0: M1 = M2 (There is no statistically significant difference between the control group and test group purchase averages)\n",
    "- H1: M1 != M2 (There is a statistically significant difference between the control group and test group purchase averages)\n",
    "---\n",
    "- **p < 0.05** H0 Reject\n",
    "- **p > 0.05** H0 Cannot reject"
   ]
  },
  {
   "cell_type": "code",
   "execution_count": 20,
   "metadata": {},
   "outputs": [
    {
     "name": "stdout",
     "output_type": "stream",
     "text": [
      "Test Stat = -0.9416, p-value = 0.3493\n"
     ]
    }
   ],
   "source": [
    "test_stat, pvalue = ttest_ind(df.loc[df[\"group\"] == \"control\", \"Purchase\"],\n",
    "                              df.loc[df[\"group\"] == \"test\", \"Purchase\"],\n",
    "                              equal_var=True)\n",
    "\n",
    "print('Test Stat = %.4f, p-value = %.4f' % (test_stat, pvalue))"
   ]
  },
  {
   "cell_type": "markdown",
   "metadata": {},
   "source": [
    "### Step #4\n",
    "\n",
    "p-value > 0.05\n",
    "\n",
    "HO cannot be rejected.\n",
    "\n",
    "There is no statistically significant difference between control and test group purchase averages."
   ]
  },
  {
   "cell_type": "markdown",
   "metadata": {},
   "source": [
    "# Section IV - Website Click Through Rate Analysis (CTR)\n",
    "\n",
    "It is a rate that shows how often users who saw the ad CLICKED the ad.\n",
    "\n",
    "Ad Clicks / Ad Shows"
   ]
  },
  {
   "cell_type": "code",
   "execution_count": null,
   "metadata": {},
   "outputs": [],
   "source": [
    "df.loc[df[\"group\"] == \"control\", \"Impression\"]"
   ]
  },
  {
   "cell_type": "code",
   "execution_count": 44,
   "metadata": {},
   "outputs": [
    {
     "name": "stdout",
     "output_type": "stream",
     "text": [
      "0.05014831092596444\n",
      "0.032922333085396625\n"
     ]
    }
   ],
   "source": [
    "control_CTR=df.loc[df[\"group\"] == \"control\", \"Click\"].sum()/df.loc[df[\"group\"] == \"control\", \"Impression\"].sum()\n",
    "test_CTR=df.loc[df[\"group\"] == \"test\", \"Click\"].sum()/df.loc[df[\"group\"] == \"test\", \"Impression\"].sum()\n",
    "\n",
    "print(control_CTR)\n",
    "print(test_CTR)"
   ]
  },
  {
   "cell_type": "code",
   "execution_count": 45,
   "metadata": {},
   "outputs": [
    {
     "data": {
      "image/png": "[encoded data removed]",
      "text/plain": [
       "<Figure size 640x480 with 1 Axes>"
      ]
     },
     "metadata": {},
     "output_type": "display_data"
    }
   ],
   "source": [
    "df_CTR = pd.DataFrame({\"Existing(MAX) CTR\":[control_CTR], \"New(AVG) CTR\": [test_CTR]})\n",
    "df_CTR.plot.bar(rot=0).legend(loc=3) ;"
   ]
  },
  {
   "cell_type": "markdown",
   "metadata": {},
   "source": [
    "### Hypothesis\n",
    "- Ho: The experiment has no effect on user behavior. (p_cont = p_test)\n",
    "- H1: The experiment has an effect on user behavior. (p_cont ≠ p_test)"
   ]
  },
  {
   "cell_type": "code",
   "execution_count": 51,
   "metadata": {},
   "outputs": [
    {
     "data": {
      "text/plain": [
       "(129.3304801715903, 0.0)"
      ]
     },
     "execution_count": 51,
     "metadata": {},
     "output_type": "execute_result"
    }
   ],
   "source": [
    "clicks= np.array([df.loc[df[\"group\"] == \"control\", \"Click\"].sum(),df.loc[df[\"group\"] == \"test\", \"Click\"].sum()])\n",
    "shows= np.array([df.loc[df[\"group\"] == \"control\", \"Impression\"].sum(),df.loc[df[\"group\"] == \"test\", \"Impression\"].sum()])\n",
    "proportions_ztest(count=clicks, nobs=shows)"
   ]
  },
  {
   "cell_type": "markdown",
   "metadata": {},
   "source": [
    "**Report:**\n",
    "\n",
    "p - value < 0.05\n",
    "\n",
    "Reject Ho hypthesis. ( The experiment has no effect on user behavior. )\n",
    "\n",
    "When the bidding methods are examined, the effect of these methods on user behavior (clicks) is different.\n",
    "\n",
    "And this difference is in favor of the current \"max bidding\" method.\n",
    "\n",
    "---"
   ]
  },
  {
   "cell_type": "markdown",
   "metadata": {},
   "source": [
    "# Section V - Conversion Rate\n",
    "\n",
    "Conversion rate is calculated by dividing the **number of conversions** by the **total number of visitors**.\n",
    "\n",
    "For example, if an ecommerce site gets **200 visitors** a month and has 50 sales, the conversion rate would equal 25%"
   ]
  },
  {
   "cell_type": "code",
   "execution_count": null,
   "metadata": {},
   "outputs": [],
   "source": [
    "df.loc[df[\"group\"] == \"control\", \"Purchase\"]"
   ]
  },
  {
   "cell_type": "code",
   "execution_count": 53,
   "metadata": {},
   "outputs": [
    {
     "name": "stdout",
     "output_type": "stream",
     "text": [
      "Max Bidding CR: 0.0054\n",
      "AVG Bidding CR: 0.0048\n"
     ]
    }
   ],
   "source": [
    "control_CR = df.loc[df[\"group\"] == \"control\", \"Purchase\"].sum()/df.loc[df[\"group\"] == \"control\", \"Impression\"].sum()\n",
    "test_CR = df.loc[df[\"group\"] == \"test\", \"Purchase\"].sum()/df.loc[df[\"group\"] == \"test\", \"Impression\"].sum()\n",
    "\n",
    "print(\"Max Bidding CR:\", round(control_CR,4))\n",
    "print(\"AVG Bidding CR:\", round(test_CR,4))"
   ]
  },
  {
   "cell_type": "code",
   "execution_count": 54,
   "metadata": {},
   "outputs": [
    {
     "data": {
      "image/png": "[encoded data removed]",
      "text/plain": [
       "<Figure size 640x480 with 1 Axes>"
      ]
     },
     "metadata": {},
     "output_type": "display_data"
    }
   ],
   "source": [
    "df_CR=pd.DataFrame({\"Existing(max) CR\":[control_CR], \"New(avg) CR\": [test_CR]})\n",
    "df_CR.plot.bar(rot=0).legend(loc=3) ;"
   ]
  },
  {
   "cell_type": "markdown",
   "metadata": {},
   "source": [
    "### Hypothesis\n",
    "- Ho: The experiment has no effect on user behavior. (p_cont = p_test)\n",
    "- H1: The experiment has an effect on user behavior. (p_cont ≠ p_test)"
   ]
  },
  {
   "cell_type": "code",
   "execution_count": 63,
   "metadata": {},
   "outputs": [
    {
     "data": {
      "text/plain": [
       "(12.221173465876399, 2.39600929947382e-34)"
      ]
     },
     "execution_count": 63,
     "metadata": {},
     "output_type": "execute_result"
    }
   ],
   "source": [
    "purchase= np.array([df.loc[df[\"group\"] == \"control\", \"Purchase\"].sum(),df.loc[df[\"group\"] == \"test\", \"Purchase\"].sum()])\n",
    "impression= np.array([df.loc[df[\"group\"] == \"control\", \"Impression\"].sum(),df.loc[df[\"group\"] == \"test\", \"Impression\"].sum()])\n",
    "proportions_ztest(count=purchase, nobs=impression)"
   ]
  },
  {
   "cell_type": "markdown",
   "metadata": {},
   "source": [
    "**Report:**\n",
    "\n",
    "p - value < 0.05\n",
    "\n",
    "Reject Ho hypthesis. ( The experiment has no effect on user behavior. )\n",
    "\n",
    "When the bidding methods are examined, the effect of these methods on user behavior (Purchasing) is different.\n",
    "\n",
    "And this difference is in favor of the current \"max bidding\" method."
   ]
  },
  {
   "cell_type": "markdown",
   "metadata": {},
   "source": [
    "### Section VI - Project Report\n",
    "\n",
    "- Control and test group data were analyzed.\n",
    "\n",
    "- There is no NA value was observed in both groups.\n",
    "\n",
    "- When looked with the boxplot method, it was observed that there was no outlier in both groups.\n",
    "\n",
    "\n",
    "- Testing was done between these two groups.\n",
    "\n",
    "  - Control group using the max bidding method as called A Test group using the new method,\n",
    "  - Average bidding as called B\n",
    "\n",
    "\n",
    "- Two independent samples t test was deemed appropriate for this comparison.\n",
    "\n",
    "- For two independent samples t test; variance homogeneity and normality assumption were provided.\n",
    "\n",
    "\n",
    "### Q: Is the new system advantageous?\n",
    "\n",
    "As a result of the statistical tests applied to the data obtained by the two groups in the research, the groups **provided** all the necessary statistical assumptions in the literature.\n",
    "\n",
    "In this direction, it was **proved** statistically and scientifically that there was **no significant difference** between the **averages** of the two groups with **95%** confidence.\n",
    "\n",
    "In line with these results, **there is not statistically significant difference** between purchase of the control group (Max Bidding) and purchase of the test group (Average Bidding)\n",
    "\n",
    "**The new method does not benefit your agency in terms of purchasin**\n",
    "\n",
    "### Q: Did the user who saw the ad click on the ad in the new system?\n",
    "\n",
    "There is a difference in **Clicking** between the two methods, but this is in favor of \"**Maximum Bidding**\", which is the system your agency **currently use**.\n",
    "\n",
    "### Q: Did visitors buy the product in the new system?\n",
    "\n",
    "There is a difference in Purchasing between the two methods, but this is in favor of \"**Maximum Bidding**\", which is the system your agency **currently use**.\n",
    "\n",
    "--- \n",
    "\n",
    "### Advice:\n",
    "\n",
    "As a result of the statistical tests carried out, the new system \"Average Bidding\" has not been observed to benefit your company.\n",
    "\n",
    "**Some advice for action:**\n",
    "\n",
    "- We recommend that you continue with the existing system.\n",
    "\n",
    "- A new test can be done by increasing the number of samples."
   ]
  }
 ],
 "metadata": {
  "kernelspec": {
   "display_name": "Python 3.9.13 ('dsprojects')",
   "language": "python",
   "name": "python3"
  },
  "language_info": {
   "codemirror_mode": {
    "name": "ipython",
    "version": 3
   },
   "file_extension": ".py",
   "mimetype": "text/x-python",
   "name": "python",
   "nbconvert_exporter": "python",
   "pygments_lexer": "ipython3",
   "version": "3.9.13"
  },
  "orig_nbformat": 4,
  "vscode": {
   "interpreter": {
    "hash": "78fd003daa28446435b2b6538571e501a8b37e58f7b5c6cbe8ad03b3dfc8ae3a"
   }
  }
 },
 "nbformat": 4,
 "nbformat_minor": 2
}
